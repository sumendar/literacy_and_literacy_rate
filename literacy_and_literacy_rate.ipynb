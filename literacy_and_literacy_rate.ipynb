{
 "cells": [
  {
   "cell_type": "markdown",
   "metadata": {
    "slideshow": {
     "slide_type": "slide"
    }
   },
   "source": [
    "## Package installation"
   ]
  },
  {
   "cell_type": "code",
   "execution_count": null,
   "metadata": {
    "collapsed": true,
    "run_control": {
     "frozen": false,
     "read_only": false
    },
    "scrolled": true,
    "slideshow": {
     "slide_type": "subslide"
    }
   },
   "outputs": [],
   "source": [
    "devtools::install_github(\"datadotworld/data.world-r\", build_vignettes = TRUE, repos = NULL, \n",
    "                         type = \"source\") \n",
    "                         \n",
    "install.packages(\"curl\", repos = NULL, \n",
    "                         type = \"source\")"
   ]
  },
  {
   "cell_type": "markdown",
   "metadata": {
    "slideshow": {
     "slide_type": "slide"
    }
   },
   "source": [
    "## load the libraries"
   ]
  },
  {
   "cell_type": "code",
   "execution_count": 1,
   "metadata": {
    "collapsed": true,
    "run_control": {
     "frozen": false,
     "read_only": false
    },
    "slideshow": {
     "slide_type": "fragment"
    }
   },
   "outputs": [],
   "source": [
    "library(ggplot2)"
   ]
  },
  {
   "cell_type": "markdown",
   "metadata": {
    "slideshow": {
     "slide_type": "slide"
    }
   },
   "source": [
    "## List all tables in the dataset"
   ]
  },
  {
   "cell_type": "code",
   "execution_count": 2,
   "metadata": {
    "hide_input": false,
    "run_control": {
     "frozen": false,
     "marked": false,
     "read_only": false
    },
    "scrolled": true,
    "slideshow": {
     "slide_type": "subslide"
    }
   },
   "outputs": [
    {
     "data": {
      "text/html": [
       "'literacy_and_literacy_rate'"
      ],
      "text/latex": [
       "'literacy\\_and\\_literacy\\_rate'"
      ],
      "text/markdown": [
       "'literacy_and_literacy_rate'"
      ],
      "text/plain": [
       "[1] \"literacy_and_literacy_rate\""
      ]
     },
     "metadata": {},
     "output_type": "display_data"
    }
   ],
   "source": [
    "library(data.world)\n",
    "library(curl)\n",
    "# Datasets are referenced by their URL or path\n",
    "dataset_key <- \"https://data.world/telangana/literacy-and-literacy-rate\"\n",
    "# List tables available for SQL queries\n",
    "tables_qry <- data.world::qry_sql(\"SELECT * FROM Tables\")\n",
    "tables_df <- data.world::query(tables_qry, dataset = dataset_key)\n",
    "# See what is in it\n",
    "tables_df$tableName"
   ]
  },
  {
   "cell_type": "markdown",
   "metadata": {
    "slideshow": {
     "slide_type": "slide"
    }
   },
   "source": [
    "## Try a sample query, if any tables exist"
   ]
  },
  {
   "cell_type": "code",
   "execution_count": 3,
   "metadata": {
    "run_control": {
     "frozen": false,
     "read_only": false
    },
    "slideshow": {
     "slide_type": "subslide"
    }
   },
   "outputs": [
    {
     "data": {
      "text/html": [
       "<table>\n",
       "<thead><tr><th scope=col>districts</th><th scope=col>males</th><th scope=col>females</th><th scope=col>literacy_rate_males</th><th scope=col>literacy_rate_females</th></tr></thead>\n",
       "<tbody>\n",
       "\t<tr><td>ADILABAD     </td><td> 228689      </td><td> 165802      </td><td>73.48        </td><td>53.40        </td></tr>\n",
       "\t<tr><td>BHADRADRI    </td><td> 351411      </td><td> 287288      </td><td>73.56        </td><td>59.33        </td></tr>\n",
       "\t<tr><td>KOMARAM BHEEM</td><td> 147911      </td><td> 107091      </td><td>65.99        </td><td>47.50        </td></tr>\n",
       "\t<tr><td>MAHABUBABAD  </td><td> 229809      </td><td> 166389      </td><td>66.52        </td><td>47.81        </td></tr>\n",
       "\t<tr><td>MAHABUBNAGAR </td><td> 429914      </td><td> 302794      </td><td>66.77        </td><td>46.83        </td></tr>\n",
       "\t<tr><td>MANCHERIAL   </td><td> 269729      </td><td> 202127      </td><td>72.96        </td><td>55.59        </td></tr>\n",
       "\t<tr><td>MEDAK        </td><td> 223069      </td><td> 154915      </td><td>67.51        </td><td>45.15        </td></tr>\n",
       "\t<tr><td>MEDCHAL      </td><td> 961188      </td><td> 816500      </td><td>87.44        </td><td>77.34        </td></tr>\n",
       "\t<tr><td>NAGARKURNOOL </td><td> 247538      </td><td> 162621      </td><td>64.85        </td><td>43.64        </td></tr>\n",
       "\t<tr><td>NALGONDA     </td><td> 534573      </td><td> 381169      </td><td>73.90        </td><td>53.46        </td></tr>\n",
       "\t<tr><td>NIRMAL       </td><td> 210021      </td><td> 151977      </td><td>69.03        </td><td>47.14        </td></tr>\n",
       "\t<tr><td>NIZAMABAD    </td><td> 504933      </td><td> 395503      </td><td>74.08        </td><td>54.95        </td></tr>\n",
       "\t<tr><td>HYDERABAD    </td><td>1542688      </td><td>1349467      </td><td>86.99        </td><td>79.35        </td></tr>\n",
       "\t<tr><td>PEDDAPALLI   </td><td> 268587      </td><td> 208774      </td><td>73.68        </td><td>57.36        </td></tr>\n",
       "\t<tr><td>RAJANNA      </td><td> 182946      </td><td> 132665      </td><td>73.47        </td><td>52.17        </td></tr>\n",
       "\t<tr><td>RANGAREDDY   </td><td> 866798      </td><td> 677161      </td><td>78.94        </td><td>64.63        </td></tr>\n",
       "\t<tr><td>SANGAREDDY   </td><td> 494705      </td><td> 359255      </td><td>73.02        </td><td>54.84        </td></tr>\n",
       "\t<tr><td>SIDDIPET     </td><td> 326013      </td><td> 233560      </td><td>72.30        </td><td>51.08        </td></tr>\n",
       "\t<tr><td>SURYAPET     </td><td> 362596      </td><td> 271717      </td><td>73.39        </td><td>54.85        </td></tr>\n",
       "\t<tr><td>VIKARABAD    </td><td> 273236      </td><td> 197138      </td><td>67.58        </td><td>48.32        </td></tr>\n",
       "\t<tr><td>WANAPARTHY   </td><td> 168792      </td><td> 112539      </td><td>65.73        </td><td>45.27        </td></tr>\n",
       "\t<tr><td>WARANGAL (R) </td><td> 233711      </td><td> 165359      </td><td>71.90        </td><td>50.67        </td></tr>\n",
       "\t<tr><td>WARANGAL (U) </td><td> 412868      </td><td> 333592      </td><td>84.40        </td><td>67.98        </td></tr>\n",
       "\t<tr><td>JAGTIAL      </td><td> 307947      </td><td> 229689      </td><td>70.60        </td><td>50.38        </td></tr>\n",
       "\t<tr><td>YADADRI      </td><td> 253858      </td><td> 180461      </td><td>75.82        </td><td>55.02        </td></tr>\n",
       "\t<tr><td>JANGAON      </td><td> 181739      </td><td> 132395      </td><td>71.21        </td><td>51.69        </td></tr>\n",
       "\t<tr><td>JAYASHANKAR  </td><td> 223575      </td><td> 164672      </td><td>70.05        </td><td>50.76        </td></tr>\n",
       "\t<tr><td>JOGULAMBA    </td><td> 159704      </td><td> 102751      </td><td>60.05        </td><td>39.48        </td></tr>\n",
       "\t<tr><td>KAMAREDDY    </td><td> 283542      </td><td> 203017      </td><td>67.37        </td><td>46.13        </td></tr>\n",
       "\t<tr><td>KARIMNAGAR   </td><td> 357364      </td><td> 276616      </td><td>77.94        </td><td>60.38        </td></tr>\n",
       "\t<tr><td>KHAMMAM      </td><td> 462275      </td><td> 370045      </td><td>73.69        </td><td>58.31        </td></tr>\n",
       "</tbody>\n",
       "</table>\n"
      ],
      "text/latex": [
       "\\begin{tabular}{r|lllll}\n",
       " districts & males & females & literacy\\_rate\\_males & literacy\\_rate\\_females\\\\\n",
       "\\hline\n",
       "\t ADILABAD      &  228689       &  165802       & 73.48         & 53.40        \\\\\n",
       "\t BHADRADRI     &  351411       &  287288       & 73.56         & 59.33        \\\\\n",
       "\t KOMARAM BHEEM &  147911       &  107091       & 65.99         & 47.50        \\\\\n",
       "\t MAHABUBABAD   &  229809       &  166389       & 66.52         & 47.81        \\\\\n",
       "\t MAHABUBNAGAR  &  429914       &  302794       & 66.77         & 46.83        \\\\\n",
       "\t MANCHERIAL    &  269729       &  202127       & 72.96         & 55.59        \\\\\n",
       "\t MEDAK         &  223069       &  154915       & 67.51         & 45.15        \\\\\n",
       "\t MEDCHAL       &  961188       &  816500       & 87.44         & 77.34        \\\\\n",
       "\t NAGARKURNOOL  &  247538       &  162621       & 64.85         & 43.64        \\\\\n",
       "\t NALGONDA      &  534573       &  381169       & 73.90         & 53.46        \\\\\n",
       "\t NIRMAL        &  210021       &  151977       & 69.03         & 47.14        \\\\\n",
       "\t NIZAMABAD     &  504933       &  395503       & 74.08         & 54.95        \\\\\n",
       "\t HYDERABAD     & 1542688       & 1349467       & 86.99         & 79.35        \\\\\n",
       "\t PEDDAPALLI    &  268587       &  208774       & 73.68         & 57.36        \\\\\n",
       "\t RAJANNA       &  182946       &  132665       & 73.47         & 52.17        \\\\\n",
       "\t RANGAREDDY    &  866798       &  677161       & 78.94         & 64.63        \\\\\n",
       "\t SANGAREDDY    &  494705       &  359255       & 73.02         & 54.84        \\\\\n",
       "\t SIDDIPET      &  326013       &  233560       & 72.30         & 51.08        \\\\\n",
       "\t SURYAPET      &  362596       &  271717       & 73.39         & 54.85        \\\\\n",
       "\t VIKARABAD     &  273236       &  197138       & 67.58         & 48.32        \\\\\n",
       "\t WANAPARTHY    &  168792       &  112539       & 65.73         & 45.27        \\\\\n",
       "\t WARANGAL (R)  &  233711       &  165359       & 71.90         & 50.67        \\\\\n",
       "\t WARANGAL (U)  &  412868       &  333592       & 84.40         & 67.98        \\\\\n",
       "\t JAGTIAL       &  307947       &  229689       & 70.60         & 50.38        \\\\\n",
       "\t YADADRI       &  253858       &  180461       & 75.82         & 55.02        \\\\\n",
       "\t JANGAON       &  181739       &  132395       & 71.21         & 51.69        \\\\\n",
       "\t JAYASHANKAR   &  223575       &  164672       & 70.05         & 50.76        \\\\\n",
       "\t JOGULAMBA     &  159704       &  102751       & 60.05         & 39.48        \\\\\n",
       "\t KAMAREDDY     &  283542       &  203017       & 67.37         & 46.13        \\\\\n",
       "\t KARIMNAGAR    &  357364       &  276616       & 77.94         & 60.38        \\\\\n",
       "\t KHAMMAM       &  462275       &  370045       & 73.69         & 58.31        \\\\\n",
       "\\end{tabular}\n"
      ],
      "text/markdown": [
       "\n",
       "districts | males | females | literacy_rate_males | literacy_rate_females | \n",
       "|---|---|---|---|---|---|---|---|---|---|---|---|---|---|---|---|---|---|---|---|---|---|---|---|---|---|---|---|---|---|---|\n",
       "| ADILABAD      |  228689       |  165802       | 73.48         | 53.40         | \n",
       "| BHADRADRI     |  351411       |  287288       | 73.56         | 59.33         | \n",
       "| KOMARAM BHEEM |  147911       |  107091       | 65.99         | 47.50         | \n",
       "| MAHABUBABAD   |  229809       |  166389       | 66.52         | 47.81         | \n",
       "| MAHABUBNAGAR  |  429914       |  302794       | 66.77         | 46.83         | \n",
       "| MANCHERIAL    |  269729       |  202127       | 72.96         | 55.59         | \n",
       "| MEDAK         |  223069       |  154915       | 67.51         | 45.15         | \n",
       "| MEDCHAL       |  961188       |  816500       | 87.44         | 77.34         | \n",
       "| NAGARKURNOOL  |  247538       |  162621       | 64.85         | 43.64         | \n",
       "| NALGONDA      |  534573       |  381169       | 73.90         | 53.46         | \n",
       "| NIRMAL        |  210021       |  151977       | 69.03         | 47.14         | \n",
       "| NIZAMABAD     |  504933       |  395503       | 74.08         | 54.95         | \n",
       "| HYDERABAD     | 1542688       | 1349467       | 86.99         | 79.35         | \n",
       "| PEDDAPALLI    |  268587       |  208774       | 73.68         | 57.36         | \n",
       "| RAJANNA       |  182946       |  132665       | 73.47         | 52.17         | \n",
       "| RANGAREDDY    |  866798       |  677161       | 78.94         | 64.63         | \n",
       "| SANGAREDDY    |  494705       |  359255       | 73.02         | 54.84         | \n",
       "| SIDDIPET      |  326013       |  233560       | 72.30         | 51.08         | \n",
       "| SURYAPET      |  362596       |  271717       | 73.39         | 54.85         | \n",
       "| VIKARABAD     |  273236       |  197138       | 67.58         | 48.32         | \n",
       "| WANAPARTHY    |  168792       |  112539       | 65.73         | 45.27         | \n",
       "| WARANGAL (R)  |  233711       |  165359       | 71.90         | 50.67         | \n",
       "| WARANGAL (U)  |  412868       |  333592       | 84.40         | 67.98         | \n",
       "| JAGTIAL       |  307947       |  229689       | 70.60         | 50.38         | \n",
       "| YADADRI       |  253858       |  180461       | 75.82         | 55.02         | \n",
       "| JANGAON       |  181739       |  132395       | 71.21         | 51.69         | \n",
       "| JAYASHANKAR   |  223575       |  164672       | 70.05         | 50.76         | \n",
       "| JOGULAMBA     |  159704       |  102751       | 60.05         | 39.48         | \n",
       "| KAMAREDDY     |  283542       |  203017       | 67.37         | 46.13         | \n",
       "| KARIMNAGAR    |  357364       |  276616       | 77.94         | 60.38         | \n",
       "| KHAMMAM       |  462275       |  370045       | 73.69         | 58.31         | \n",
       "\n",
       "\n"
      ],
      "text/plain": [
       "   districts     males   females literacy_rate_males literacy_rate_females\n",
       "1  ADILABAD       228689  165802 73.48               53.40                \n",
       "2  BHADRADRI      351411  287288 73.56               59.33                \n",
       "3  KOMARAM BHEEM  147911  107091 65.99               47.50                \n",
       "4  MAHABUBABAD    229809  166389 66.52               47.81                \n",
       "5  MAHABUBNAGAR   429914  302794 66.77               46.83                \n",
       "6  MANCHERIAL     269729  202127 72.96               55.59                \n",
       "7  MEDAK          223069  154915 67.51               45.15                \n",
       "8  MEDCHAL        961188  816500 87.44               77.34                \n",
       "9  NAGARKURNOOL   247538  162621 64.85               43.64                \n",
       "10 NALGONDA       534573  381169 73.90               53.46                \n",
       "11 NIRMAL         210021  151977 69.03               47.14                \n",
       "12 NIZAMABAD      504933  395503 74.08               54.95                \n",
       "13 HYDERABAD     1542688 1349467 86.99               79.35                \n",
       "14 PEDDAPALLI     268587  208774 73.68               57.36                \n",
       "15 RAJANNA        182946  132665 73.47               52.17                \n",
       "16 RANGAREDDY     866798  677161 78.94               64.63                \n",
       "17 SANGAREDDY     494705  359255 73.02               54.84                \n",
       "18 SIDDIPET       326013  233560 72.30               51.08                \n",
       "19 SURYAPET       362596  271717 73.39               54.85                \n",
       "20 VIKARABAD      273236  197138 67.58               48.32                \n",
       "21 WANAPARTHY     168792  112539 65.73               45.27                \n",
       "22 WARANGAL (R)   233711  165359 71.90               50.67                \n",
       "23 WARANGAL (U)   412868  333592 84.40               67.98                \n",
       "24 JAGTIAL        307947  229689 70.60               50.38                \n",
       "25 YADADRI        253858  180461 75.82               55.02                \n",
       "26 JANGAON        181739  132395 71.21               51.69                \n",
       "27 JAYASHANKAR    223575  164672 70.05               50.76                \n",
       "28 JOGULAMBA      159704  102751 60.05               39.48                \n",
       "29 KAMAREDDY      283542  203017 67.37               46.13                \n",
       "30 KARIMNAGAR     357364  276616 77.94               60.38                \n",
       "31 KHAMMAM        462275  370045 73.69               58.31                "
      ]
     },
     "metadata": {},
     "output_type": "display_data"
    }
   ],
   "source": [
    "if (length(tables_df$tableName) > 0) {\n",
    "  sample_qry <- data.world::qry_sql(sprintf(\"SELECT * FROM `%s`\", tables_df$tableName[[1]]))\n",
    "  sample_df <- data.world::query(sample_qry, dataset = dataset_key)\n",
    "  sample_df\n",
    "}"
   ]
  },
  {
   "cell_type": "code",
   "execution_count": 4,
   "metadata": {
    "run_control": {
     "frozen": false,
     "read_only": false
    },
    "scrolled": false
   },
   "outputs": [
    {
     "data": {
      "image/png": "[encoded data removed]",
      "text/plain": [
       "Plot with title \"Histogram of sample_df$literacy_rate_females\""
      ]
     },
     "metadata": {},
     "output_type": "display_data"
    }
   ],
   "source": [
    "par(mfrow=c(1,2))\n",
    "hist(sample_df$literacy_rate_males) \n",
    "hist(sample_df$literacy_rate_females) "
   ]
  },
  {
   "cell_type": "code",
   "execution_count": 12,
   "metadata": {
    "run_control": {
     "frozen": false,
     "read_only": false
    }
   },
   "outputs": [
    {
     "data": {
      "image/png": "[encoded data removed]",
      "text/plain": [
       "Plot with title \"Histogram of sample_df$females\""
      ]
     },
     "metadata": {},
     "output_type": "display_data"
    }
   ],
   "source": []
  },
  {
   "cell_type": "code",
   "execution_count": 15,
   "metadata": {},
   "outputs": [
    {
     "data": {
      "image/png": "[encoded data removed]",
      "text/plain": [
       "plot without title"
      ]
     },
     "metadata": {},
     "output_type": "display_data"
    }
   ],
   "source": [
    "boxplot(sample_df[,-1])"
   ]
  }
 ],
 "metadata": {
  "celltoolbar": "Slideshow",
  "kernelspec": {
   "display_name": "R",
   "language": "R",
   "name": "ir"
  },
  "language_info": {
   "codemirror_mode": "r",
   "file_extension": ".r",
   "mimetype": "text/x-r-source",
   "name": "R",
   "pygments_lexer": "r",
   "version": "3.4.1"
  }
 },
 "nbformat": 4,
 "nbformat_minor": 2
}
